{
 "cells": [
  {
   "cell_type": "markdown",
   "id": "14855a32-11d0-4669-8ddb-a9608e1ee03b",
   "metadata": {
    "tags": []
   },
   "source": [
    "# Structure factor"
   ]
  },
  {
   "cell_type": "code",
   "execution_count": 2,
   "id": "75caf0d1-c56c-4dd3-aae8-af0f7e6dda3e",
   "metadata": {
    "tags": []
   },
   "outputs": [],
   "source": [
    "import numpy as np\n",
    "import matplotlib.pyplot as plt"
   ]
  },
  {
   "cell_type": "code",
   "execution_count": 7,
   "id": "1ba2bd59-d473-412b-8b4b-bca2d8723f37",
   "metadata": {
    "tags": []
   },
   "outputs": [],
   "source": [
    "b = 3.0\n",
    "T = 10000\n",
    "N = 100"
   ]
  },
  {
   "cell_type": "markdown",
   "id": "0fd08c96-0e92-489f-9f23-725665610cc6",
   "metadata": {},
   "source": [
    "**Trajectory and Output**"
   ]
  },
  {
   "cell_type": "code",
   "execution_count": 8,
   "id": "dc89f0a3-d91a-4751-80a1-e9ff541bc909",
   "metadata": {
    "tags": []
   },
   "outputs": [],
   "source": [
    "x=np.zeros((T,N+1)); y=np.zeros((T,N+1)); z=np.zeros((T,N+1))\n",
    "for t in range(T):\n",
    "    \n",
    "    bx=np.random.uniform(-1,1,10*N)\n",
    "    by=np.random.uniform(-1,1,10*N)\n",
    "    bz=np.random.uniform(-1,1,10*N)\n",
    "    normb=np.sqrt(bx**2+by**2+bz**2)\n",
    "    \n",
    "    idb=np.where(normb<=1)[0][0:N]\n",
    "    bx=bx[idb]/normb[idb]\n",
    "    by=by[idb]/normb[idb]\n",
    "    bz=bz[idb]/normb[idb]\n",
    "    \n",
    "    vb=b*np.array([bx,by,bz])   \n",
    "    x[t,1:]=np.cumsum(vb[0])\n",
    "    y[t,1:]=np.cumsum(vb[1])"
   ]
  },
  {
   "cell_type": "code",
   "execution_count": 9,
   "id": "87df3aed-43af-4085-b3cc-77e258562938",
   "metadata": {
    "tags": []
   },
   "outputs": [],
   "source": [
    "filename='simulation_FJC_b=%.1f_N=%d_T=%d.xyz'%(b,N,T)\n",
    "with open(filename,'w') as f:\n",
    "    for t in range(T):\n",
    "        f.write('%d\\n'%(N+1))\n",
    "        f.write('t=%d\\n'%t)\n",
    "        for n in range(N+1):\n",
    "            f.write('C %8.3f %8.3f %8.3f\\n'%(x[t,n],y[t,n],z[t,n]))"
   ]
  },
  {
   "cell_type": "code",
   "execution_count": 11,
   "id": "d860caac-24e0-4284-aa4a-3ce2965b37f3",
   "metadata": {
    "tags": []
   },
   "outputs": [],
   "source": [
    "x=np.zeros((T,N+1)); y=np.zeros((T,N+1)); z=np.zeros((T,N+1))\n",
    "filename = 'simulation_FJC_b=3.0_N=100_T=10000.xyz'\n",
    "with open(filename, 'r') as file:\n",
    "    for t in range(T):\n",
    "        file.readline()\n",
    "        file.readline()\n",
    "        for n in range(N+1):\n",
    "            data = file.readline()\n",
    "            x[t,n] = float(data.split()[1])\n",
    "            y[t,n] = float(data.split()[2])\n",
    "            z[t,n] = float(data.split()[3])    "
   ]
  },
  {
   "cell_type": "code",
   "execution_count": 14,
   "id": "852a24bf-7e6b-44fc-9dbd-42ad6da5c925",
   "metadata": {
    "tags": []
   },
   "outputs": [],
   "source": [
    "d=np.zeros((N+1,N+1))\n"
   ]
  },
  {
   "cell_type": "code",
   "execution_count": 18,
   "id": "796c4734-8274-4fcb-b8a3-c009e728bbe9",
   "metadata": {
    "tags": []
   },
   "outputs": [
    {
     "data": {
      "text/plain": [
       "Text(0, 0.5, 'structure factor')"
      ]
     },
     "execution_count": 18,
     "metadata": {},
     "output_type": "execute_result"
    },
    {
     "data": {
      "image/png": "[encoded data removed]",
      "text/plain": [
       "<Figure size 640x480 with 1 Axes>"
      ]
     },
     "metadata": {},
     "output_type": "display_data"
    }
   ],
   "source": [
    "k_values = np.linspace(0.01,2.0,100)\n",
    "SF = np.zeros_like(k_values)\n",
    "for i, k in enumerate(k_values):\n",
    "    term_sum = sum(np.sin(k * n * b) / (k * n * b) for n in range(1, N + 1))\n",
    "    SF[i] = term_sum / N\n",
    "plt.plot(k_values,SF)\n",
    "plt.xlabel('k')\n",
    "plt.ylabel('structure factor')"
   ]
  },
  {
   "cell_type": "code",
   "execution_count": null,
   "id": "c7906524-c4cf-495f-9406-4e91576783ca",
   "metadata": {},
   "outputs": [],
   "source": []
  }
 ],
 "metadata": {
  "kernelspec": {
   "display_name": "Python 3 (ipykernel)",
   "language": "python",
   "name": "python3"
  },
  "language_info": {
   "codemirror_mode": {
    "name": "ipython",
    "version": 3
   },
   "file_extension": ".py",
   "mimetype": "text/x-python",
   "name": "python",
   "nbconvert_exporter": "python",
   "pygments_lexer": "ipython3",
   "version": "3.11.5"
  }
 },
 "nbformat": 4,
 "nbformat_minor": 5
}
