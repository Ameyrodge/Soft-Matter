{
 "cells": [
  {
   "cell_type": "markdown",
   "metadata": {},
   "source": [
    "# LIBRARIES"
   ]
  },
  {
   "cell_type": "code",
   "execution_count": 1,
   "metadata": {},
   "outputs": [],
   "source": [
    "import numpy as np"
   ]
  },
  {
   "cell_type": "markdown",
   "metadata": {},
   "source": [
    "# PARAMETERS"
   ]
  },
  {
   "cell_type": "code",
   "execution_count": 2,
   "metadata": {},
   "outputs": [],
   "source": [
    "#b=3.0\n",
    "#N=100\n",
    "#T=1000"
   ]
  },
  {
   "cell_type": "code",
   "execution_count": 25,
   "metadata": {
    "tags": []
   },
   "outputs": [],
   "source": [
    "b = 3.0\n",
    "T = 10000\n",
    "#N = [10,20,50,100,200,500,800,1000]\n",
    "N =1000"
   ]
  },
  {
   "cell_type": "markdown",
   "metadata": {},
   "source": [
    "# TRAJECTORY"
   ]
  },
  {
   "cell_type": "code",
   "execution_count": 26,
   "metadata": {},
   "outputs": [],
   "source": [
    "\n",
    "x=np.zeros((T,N+1)); y=np.zeros((T,N+1)); z=np.zeros((T,N+1))\n",
    "for t in range(T):\n",
    "    \n",
    "    bx=np.random.uniform(-1,1,10*N)\n",
    "    by=np.random.uniform(-1,1,10*N)\n",
    "    bz=np.random.uniform(-1,1,10*N)\n",
    "    normb=np.sqrt(bx**2+by**2+bz**2)\n",
    "    \n",
    "    idb=np.where(normb<=1)[0][0:N]\n",
    "    bx=bx[idb]/normb[idb]\n",
    "    by=by[idb]/normb[idb]\n",
    "    bz=bz[idb]/normb[idb]\n",
    "    \n",
    "    vb=b*np.array([bx,by,bz])   \n",
    "    x[t,1:]=np.cumsum(vb[0])\n",
    "    y[t,1:]=np.cumsum(vb[1])\n",
    "    z[t,1:]=np.cumsum(vb[2])"
   ]
  },
  {
   "cell_type": "markdown",
   "metadata": {},
   "source": [
    "# OUTPUT"
   ]
  },
  {
   "cell_type": "code",
   "execution_count": 27,
   "metadata": {},
   "outputs": [],
   "source": [
    "filename='simulation_FJC_b=%.1f_N=%d_T=%d.xyz'%(b,N,T)\n",
    "with open(filename,'w') as f:\n",
    "    for t in range(T):\n",
    "        f.write('%d\\n'%(N+1))\n",
    "        f.write('t=%d\\n'%t)\n",
    "        for n in range(N+1):\n",
    "            f.write('C %8.3f %8.3f %8.3f\\n'%(x[t,n],y[t,n],z[t,n]))\n",
    "            "
   ]
  },
  {
   "cell_type": "code",
   "execution_count": null,
   "metadata": {},
   "outputs": [],
   "source": []
  }
 ],
 "metadata": {
  "kernelspec": {
   "display_name": "Python 3 (ipykernel)",
   "language": "python",
   "name": "python3"
  },
  "language_info": {
   "codemirror_mode": {
    "name": "ipython",
    "version": 3
   },
   "file_extension": ".py",
   "mimetype": "text/x-python",
   "name": "python",
   "nbconvert_exporter": "python",
   "pygments_lexer": "ipython3",
   "version": "3.11.5"
  }
 },
 "nbformat": 4,
 "nbformat_minor": 4
}
